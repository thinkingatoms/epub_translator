{
 "cells": [
  {
   "cell_type": "code",
   "execution_count": 1,
   "id": "03229bf9",
   "metadata": {},
   "outputs": [
    {
     "data": {
      "text/plain": [
       "<module 'epubtrans' from '/home/tom/dev/github/epub_translator/epubtrans.py'>"
      ]
     },
     "execution_count": 1,
     "metadata": {},
     "output_type": "execute_result"
    }
   ],
   "source": [
    "import os\n",
    "from importlib import reload\n",
    "\n",
    "import epubtrans\n",
    "\n",
    "reload(epubtrans)"
   ]
  },
  {
   "cell_type": "code",
   "execution_count": 2,
   "id": "aa6b2e43",
   "metadata": {},
   "outputs": [],
   "source": [
    "os.environ['GOOGLE_APPLICATION_CREDENTIALS'] = \"/home/tom/dev/googlecloud/auth/dad-translations-51cbf2c87c7a.json\""
   ]
  },
  {
   "cell_type": "code",
   "execution_count": 5,
   "id": "c2cc6d05",
   "metadata": {},
   "outputs": [],
   "source": [
    "epub_file = '/home/tom/Downloads/epubs/worst_case.epub'\n",
    "cache_file = '/home/tom/Downloads/test.json'\n",
    "\n",
    "mock_file = '/home/tom/Downloads/epubs/worst_case.mock.epub'\n",
    "final_file = '/home/tom/Downloads/epubs/worst_case.dual.epub'\n",
    "\n",
    "translator = epubtrans.MockTranslator(cache_file=cache_file)\n",
    "# translator = epubtrans.GoogleTranslator(cache_file=cache_file)\n",
    "\n",
    "epub_translator = epubtrans.EPUBTranslator(epub_file, translator)"
   ]
  },
  {
   "cell_type": "code",
   "execution_count": 6,
   "id": "3b92c921",
   "metadata": {},
   "outputs": [
    {
     "name": "stdout",
     "output_type": "stream",
     "text": [
      "warning: overwriting existing file /home/tom/Downloads/epubs/worst_case.mock.epub\n",
      "sleeping for 15 seconds..\n"
     ]
    },
    {
     "name": "stderr",
     "output_type": "stream",
     "text": [
      "/home/tom/dev/github/epub_translator/epubtrans.py:312: GuessedAtParserWarning: No parser was explicitly specified, so I'm using the best available HTML parser for this system (\"lxml\"). This usually isn't a problem, but if you run this code on another system, or in a different virtual environment, it may use a different parser and behave differently.\n",
      "\n",
      "The code that caused this warning is on line 312 of the file /home/tom/dev/github/epub_translator/epubtrans.py. To get rid of this warning, pass the additional argument 'features=\"lxml\"' to the BeautifulSoup constructor.\n",
      "\n",
      "  soup = BeautifulSoup(item.get_content().decode('utf-8'))\n",
      "/home/tom/dev/anaconda3/envs/homl3/lib/python3.9/site-packages/bs4/builder/__init__.py:545: XMLParsedAsHTMLWarning: It looks like you're parsing an XML document using an HTML parser. If this really is an HTML document (maybe it's XHTML?), you can ignore or filter this warning. If it's XML, you should know that using an XML parser will be more reliable. To parse this document as XML, make sure you have the lxml package installed, and pass the keyword argument `features=\"xml\"` into the BeautifulSoup constructor.\n",
      "  warnings.warn(\n",
      "/home/tom/dev/github/epub_translator/epubtrans.py:329: GuessedAtParserWarning: No parser was explicitly specified, so I'm using the best available HTML parser for this system (\"lxml\"). This usually isn't a problem, but if you run this code on another system, or in a different virtual environment, it may use a different parser and behave differently.\n",
      "\n",
      "The code that caused this warning is on line 329 of the file /home/tom/dev/github/epub_translator/epubtrans.py. To get rid of this warning, pass the additional argument 'features=\"lxml\"' to the BeautifulSoup constructor.\n",
      "\n",
      "  soup = BeautifulSoup(f['item'].get_content())\n"
     ]
    },
    {
     "data": {
      "text/plain": [
       "'/home/tom/Downloads/epubs/worst_case.mock.epub'"
      ]
     },
     "execution_count": 6,
     "metadata": {},
     "output_type": "execute_result"
    }
   ],
   "source": [
    "epub_translator.translate(output_epub_file=mock_file, force=True)\n",
    "\n",
    "# epub_translator.translate(output_epub_file=final_file)"
   ]
  },
  {
   "cell_type": "code",
   "execution_count": 7,
   "id": "b21c20be",
   "metadata": {},
   "outputs": [],
   "source": [
    "# ebook, content = epub_translator._read_epub_file()\n",
    "# for item in ebook.get_items():\n",
    "#     if item.get_type() != epubtrans.ebooklib.ITEM_DOCUMENT:\n",
    "#         continue\n",
    "#     soup = epubtrans.BeautifulSoup(item.get_content().decode('utf-8'))\n",
    "#     if 'METAL' in str(soup):\n",
    "#         break"
   ]
  },
  {
   "cell_type": "code",
   "execution_count": 8,
   "id": "954d9706",
   "metadata": {},
   "outputs": [
    {
     "data": {
      "text/plain": [
       "0"
      ]
     },
     "execution_count": 8,
     "metadata": {},
     "output_type": "execute_result"
    }
   ],
   "source": [
    "sum(len(v) for v in translator.chunks)"
   ]
  },
  {
   "cell_type": "code",
   "execution_count": null,
   "id": "1b9b2124",
   "metadata": {},
   "outputs": [],
   "source": []
  }
 ],
 "metadata": {
  "kernelspec": {
   "display_name": "Python 3 (ipykernel)",
   "language": "python",
   "name": "python3"
  },
  "language_info": {
   "codemirror_mode": {
    "name": "ipython",
    "version": 3
   },
   "file_extension": ".py",
   "mimetype": "text/x-python",
   "name": "python",
   "nbconvert_exporter": "python",
   "pygments_lexer": "ipython3",
   "version": "3.9.12"
  }
 },
 "nbformat": 4,
 "nbformat_minor": 5
}
